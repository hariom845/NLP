{
 "cells": [
  {
   "cell_type": "markdown",
   "id": "5b95f5fd",
   "metadata": {},
   "source": [
    "# Stemming"
   ]
  },
  {
   "cell_type": "markdown",
   "id": "d51f2897",
   "metadata": {},
   "source": [
    "# Stemming techniques"
   ]
  },
  {
   "cell_type": "markdown",
   "id": "1f7d7f86",
   "metadata": {},
   "source": [
    "1. PorterStemmer"
   ]
  },
  {
   "cell_type": "code",
   "execution_count": 1,
   "id": "6ecdb192",
   "metadata": {},
   "outputs": [
    {
     "name": "stdout",
     "output_type": "stream",
     "text": [
      "eating---->eat\n",
      "eats---->eat\n",
      "eaten---->eaten\n",
      "writting---->writ\n",
      "writes---->write\n",
      "congratulation---->congratul\n",
      "programing---->program\n",
      "programs---->program\n",
      "history---->histori\n",
      "finally---->final\n",
      "finalized---->final\n"
     ]
    }
   ],
   "source": [
    "words=['eating','eats','eaten','writting','writes','congratulation','programing','programs','history','finally','finalized']\n",
    "from nltk.stem import PorterStemmer\n",
    "portstemming = PorterStemmer()\n",
    "for word in words:\n",
    "    print(word+\"---->\"+portstemming.stem(word))\n",
    "\n",
    "# gives history---->histori,congratulation---->congratul, so it changes meaning of some words "
   ]
  },
  {
   "cell_type": "markdown",
   "id": "5f6b05b2",
   "metadata": {},
   "source": [
    "2. RegexpStemmer"
   ]
  },
  {
   "cell_type": "code",
   "execution_count": 2,
   "id": "8b4b8657",
   "metadata": {},
   "outputs": [
    {
     "data": {
      "text/plain": [
       "'eat'"
      ]
     },
     "execution_count": 2,
     "metadata": {},
     "output_type": "execute_result"
    }
   ],
   "source": [
    "from nltk.stem import RegexpStemmer\n",
    "regstemming = RegexpStemmer('ing$|s$|e$|able$|en$|ized$', min=4)\n",
    "regstemming.stem('eating')\n"
   ]
  },
  {
   "cell_type": "code",
   "execution_count": 3,
   "id": "569912f1",
   "metadata": {},
   "outputs": [
    {
     "name": "stdout",
     "output_type": "stream",
     "text": [
      "eating----->eat\n",
      "eats----->eat\n",
      "eaten----->eat\n",
      "writting----->writt\n",
      "writes----->write\n",
      "congratulation----->congratulation\n",
      "programing----->program\n",
      "programs----->program\n",
      "history----->history\n",
      "finally----->finally\n",
      "finalized----->final\n"
     ]
    }
   ],
   "source": [
    "for word in words:\n",
    "    print(word+\"----->\"+regstemming.stem(word))"
   ]
  },
  {
   "cell_type": "markdown",
   "id": "c0de109c",
   "metadata": {},
   "source": [
    "3. Snowball stemmer "
   ]
  },
  {
   "cell_type": "code",
   "execution_count": 4,
   "id": "cf2d164b",
   "metadata": {},
   "outputs": [
    {
     "name": "stdout",
     "output_type": "stream",
     "text": [
      "eating--->eat\n",
      "eats--->eat\n",
      "eaten--->eaten\n",
      "writting--->writ\n",
      "writes--->write\n",
      "congratulation--->congratul\n",
      "programing--->program\n",
      "programs--->program\n",
      "history--->histori\n",
      "finally--->final\n",
      "finalized--->final\n"
     ]
    }
   ],
   "source": [
    "# it is better than porterstemmer\n",
    "from nltk.stem import SnowballStemmer\n",
    "snowball=SnowballStemmer('english')\n",
    "for word in words:\n",
    "    print(word+\"--->\"+snowball.stem(word))\n"
   ]
  },
  {
   "cell_type": "markdown",
   "id": "3a48f212",
   "metadata": {},
   "source": [
    "# comparision between porter and snowball"
   ]
  },
  {
   "cell_type": "code",
   "execution_count": 5,
   "id": "634c565a",
   "metadata": {},
   "outputs": [
    {
     "data": {
      "text/plain": [
       "('fairli', 'fair')"
      ]
     },
     "execution_count": 5,
     "metadata": {},
     "output_type": "execute_result"
    }
   ],
   "source": [
    "portstemming.stem('fairly'), snowball.stem('fairly')"
   ]
  },
  {
   "cell_type": "code",
   "execution_count": 6,
   "id": "b2f6c53e",
   "metadata": {},
   "outputs": [
    {
     "data": {
      "text/plain": [
       "('sportingli', 'sport')"
      ]
     },
     "execution_count": 6,
     "metadata": {},
     "output_type": "execute_result"
    }
   ],
   "source": [
    "portstemming.stem('sportingly'), snowball.stem('sportingly')"
   ]
  },
  {
   "cell_type": "code",
   "execution_count": 7,
   "id": "ec3a3e93",
   "metadata": {},
   "outputs": [
    {
     "data": {
      "text/plain": [
       "('goe', 'goe')"
      ]
     },
     "execution_count": 7,
     "metadata": {},
     "output_type": "execute_result"
    }
   ],
   "source": [
    "portstemming.stem('goes'), snowball.stem('goes')"
   ]
  }
 ],
 "metadata": {
  "kernelspec": {
   "display_name": "Python 3",
   "language": "python",
   "name": "python3"
  },
  "language_info": {
   "codemirror_mode": {
    "name": "ipython",
    "version": 3
   },
   "file_extension": ".py",
   "mimetype": "text/x-python",
   "name": "python",
   "nbconvert_exporter": "python",
   "pygments_lexer": "ipython3",
   "version": "3.12.0"
  }
 },
 "nbformat": 4,
 "nbformat_minor": 5
}
