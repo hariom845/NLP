{
 "cells": [
  {
   "cell_type": "markdown",
   "id": "257dece1",
   "metadata": {},
   "source": [
    "# Lemmatization"
   ]
  },
  {
   "cell_type": "markdown",
   "id": "7b86f61e",
   "metadata": {},
   "source": [
    "1. wordnet lemmatizer\n",
    "-ex. chatbot, Q$A, text summarization, etc"
   ]
  },
  {
   "cell_type": "markdown",
   "id": "1f1c1a6e",
   "metadata": {},
   "source": [
    "noun-n,\n",
    "verb-v,\n",
    "adjective-a,\n",
    "adverb-r"
   ]
  },
  {
   "cell_type": "code",
   "execution_count": 19,
   "id": "c0c4eac6",
   "metadata": {},
   "outputs": [],
   "source": [
    "from nltk.stem import WordNetLemmatizer\n",
    "word_lematizer=WordNetLemmatizer()"
   ]
  },
  {
   "cell_type": "code",
   "execution_count": 20,
   "id": "65a7b19e",
   "metadata": {},
   "outputs": [
    {
     "data": {
      "text/plain": [
       "'going'"
      ]
     },
     "execution_count": 20,
     "metadata": {},
     "output_type": "execute_result"
    }
   ],
   "source": [
    "word_lematizer.lemmatize('going')"
   ]
  },
  {
   "cell_type": "code",
   "execution_count": 21,
   "id": "afada33d",
   "metadata": {},
   "outputs": [
    {
     "name": "stdout",
     "output_type": "stream",
     "text": [
      "going\n",
      "go\n",
      "going\n",
      "going\n"
     ]
    }
   ],
   "source": [
    "word = 'going'\n",
    "i = ['n','v','a','r']\n",
    "for x in i:\n",
    "    print(word_lematizer.lemmatize('going',x))"
   ]
  },
  {
   "cell_type": "code",
   "execution_count": 24,
   "id": "4976394f",
   "metadata": {},
   "outputs": [
    {
     "name": "stdout",
     "output_type": "stream",
     "text": [
      "eating----->eat\n",
      "eats----->eat\n",
      "goes----->go\n",
      "fairly----->fairly\n",
      "sportingly----->sportingly\n",
      "eaten----->eat\n",
      "writing----->write\n",
      "writes----->write\n",
      "congratulation----->congratulation\n",
      "programing----->program\n",
      "programs----->program\n",
      "history----->history\n",
      "finally----->finally\n",
      "finalized----->finalize\n"
     ]
    }
   ],
   "source": [
    "words=['eating','eats','goes','fairly','sportingly','eaten','writing','writes','congratulation','programing','programs','history','finally','finalized']\n",
    "for word in words:\n",
    "    print(word+\"----->\"+word_lematizer.lemmatize(word, pos='v'))"
   ]
  },
  {
   "cell_type": "code",
   "execution_count": null,
   "id": "52d6b7f8",
   "metadata": {},
   "outputs": [],
   "source": []
  }
 ],
 "metadata": {
  "kernelspec": {
   "display_name": "Python 3",
   "language": "python",
   "name": "python3"
  },
  "language_info": {
   "codemirror_mode": {
    "name": "ipython",
    "version": 3
   },
   "file_extension": ".py",
   "mimetype": "text/x-python",
   "name": "python",
   "nbconvert_exporter": "python",
   "pygments_lexer": "ipython3",
   "version": "3.12.0"
  }
 },
 "nbformat": 4,
 "nbformat_minor": 5
}
