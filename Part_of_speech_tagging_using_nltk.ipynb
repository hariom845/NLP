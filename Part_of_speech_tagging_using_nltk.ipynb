{
 "cells": [
  {
   "cell_type": "markdown",
   "id": "ea511a9a",
   "metadata": {},
   "source": [
    "# Part of speech tagging using nltk"
   ]
  },
  {
   "cell_type": "code",
   "execution_count": 40,
   "id": "a23150c4",
   "metadata": {},
   "outputs": [],
   "source": [
    "# obama's speech\n",
    "paragraph = \"\"\"I stand here today humbled by the task before us, grateful for the trust you have bestowed, mindful of the sacrifices borne by our ancestors. I thank President Bush for his service to our nation, as well as the generosity and cooperation he has shown throughout this transition. Forty-four Americans have now taken the presidential oath. The words have been spoken during rising tides of prosperity and the still waters of peace. Yet, every so often the oath is taken amidst gathering clouds and raging storms. At these moments, America has carried on not simply because of the skill or vision of those in high office, but because We the People have remained faithful to the ideals of our forbearers, and true to our founding documents.\n",
    "So it has been. So it must be with this generation of Americans.\n",
    "That we are in the midst of crisis is now well understood. Our nation is at war, against a far-reaching network of violence and hatred. Our economy is badly weakened, a consequence of greed and irresponsibility on the part of some, but also our collective failure to make hard choices and prepare the nation for a new age. Homes have been lost; jobs shed; businesses shuttered. Our health care is too costly; our schools fail too many; and each day brings further evidence that the ways we use energy strengthen our adversaries and threaten our planet.\n",
    "These are the indicators of crisis, subject to data and statistics. Less measurable but no less profound is a sapping of confidence across our land - a nagging fear that America's decline is inevitable, and that the next generation must lower its sights.\n",
    "Today I say to you that the challenges we face are real. They are serious and they are many. They will not be met easily or in a short span of time. But know this, America - they will be met.\n",
    "On this day, we gather because we have chosen hope over fear, unity of purpose over conflict and discord.\n",
    "On this day, we come to proclaim an end to the petty grievances and false promises, the recriminations and worn out dogmas, that for far too long have strangled our politics.\n",
    "We remain a young nation, but in the words of Scripture, the time has come to set aside childish things. The time has come to reaffirm our enduring spirit; to choose our better history; to carry forward that precious gift, that noble idea, passed on from generation to generation: the God-given promise that all are equal, all are free, and all deserve a chance to pursue their full measure of happiness.In reaffirming the greatness of our nation, we understand that greatness is never a given. It must be earned. Our journey has never been one of short-cuts or settling for less. It has not been the path for the faint-hearted - for those who prefer leisure over work, or seek only the pleasures of riches and fame. Rather, it has been the risk-takers, the doers, the makers of things - some celebrated but more often men and women obscure in their labor, who have carried us up the long, rugged path towards prosperity and freedom.\n",
    "For us, they packed up their few worldly possessions and traveled across oceans in search of a new life.\n",
    "For us, they toiled in sweatshops and settled the West; endured the lash of the whip and plowed the hard earth.\n",
    "For us, they fought and died, in places like Concord and Gettysburg; Normandy and Khe Sahn.\n",
    "Time and again these men and women struggled and sacrificed and worked till their hands were raw so that we might live a better life. They saw America as bigger than the sum of our individual ambitions; greater than all the differences of birth or wealth or faction.\n",
    "This is the journey we continue today. We remain the most prosperous, powerful nation on Earth. Our workers are no less productive than when this crisis began. Our minds are no less inventive, our goods and services no less needed than they were last week or last month or last year. Our capacity remains undiminished. But our time of standing pat, of protecting narrow interests and putting off unpleasant decisions - that time has surely passed. Starting today, we must pick ourselves up, dust ourselves off, and begin again the work of remaking America.\n",
    "For everywhere we look, there is work to be done. The state of the economy calls for action, bold and swift, and we will act - not only to create new jobs, but to lay a new foundation for growth. We will build the roads and bridges, the electric grids and digital lines that feed our commerce and bind us together. We will restore science to its rightful place, and wield technology's wonders to raise heal}th care's quality and lower its cost. We will harness the sun and the winds and the soil to fuel our cars and run our factories. And we will transform our schools and colleges and universities to meet the demands of a new age. All this we can do. And all this we will do.\n",
    "Now, there are some who question the scale of our ambitions - who suggest that our system cannot tolerate too many big plans. Their memories are short. For they have forgotten what this country has already done; what free men and women can achieve when imagination is joined to common purpose, and necessity to courage.\n",
    "What the cynics fail to understand is that the ground has shifted beneath them - that the stale political arguments that have consumed us for so long no longer apply. The question we ask today is not whether our government is too big or too small, but whether it works - whether it helps families find jobs at a decent wage, care they can afford, a retirement that is dignified. Where the answer is yes, we intend to move forward. Where the answer is no, programs will end. And those of us who manage the public's dollars will be held to account - to spend wisely, reform bad habits, and do our business in the light of day - because only then can we restore the vital trust between a people and their government.Nor is the question before us whether the market is a force for good or ill. Its power to generate wealth and expand freedom is unmatched, but this crisis has reminded us that without a watchful eye, the market can spin out of control - and that a nation cannot prosper long when it favors only the prosperous. The success of our economy has always depended not just on the size of our Gross Domestic Product, but on the reach of our prosperity; on the ability to extend opportunity to every willing heart - not out of charity, but because it is the surest route to our common good.\n",
    "As for our common defense, we reject as false the choice between our safety and our ideals. Our Founding Fathers, faced with perils we can scarcely imagine, drafted a charter to assure the rule of law and the rights of man, a charter expanded by the blood of generations. Those ideals still light the world, and we will not give them up for expedience's sake. And so to all other peoples and governments who are watching today, from the grandest capitals to the small village where my father was born: know that America is a friend of each nation and every man, woman, and child who seeks a future of peace and dignity, and we are ready to lead once more.\n",
    "Recall that earlier generations faced down fascism and communism not just with missiles and tanks, but with the sturdy alliances and enduring convictions. They understood that our power alone cannot protect us, nor does it entitle us to do as we please. Instead, they knew that our power grows through its prudent use; our security emanates from the justness of our cause, the force of our example, the tempering qualities of humility and restraint.\n",
    "We are the keepers of this legacy. Guided by these principles once more, we can meet those new threats that demand even greater effort - even greater cooperation and understanding between nations. We will begin to responsibly leave Iraq to its people, and forge a hard-earned peace in Afghanistan. With old friends and former foes, we’ll work tirelessly to lessen the nuclear threat, and roll back the specter of a warming planet. We will not apologize for our way of life, nor will we waver in its defense, and for those who seek to advance their aims by inducing terror and slaughtering innocents, we say to you now that our spirit is stronger and cannot be broken; you cannot outlast us, and we will defeat you.\n",
    "For we know that our patchwork heritage is a strength, not a weakness. We are a nation of Christians and Muslims, Jews and Hindus - and non-believers. We are shaped by every language and culture, drawn from every end of this Earth; and because we have tasted the bitter swill of civil war and segregation, and emerged from that dark chapter stronger and more united, we cannot help but believe that the old hatreds shall someday pass; that the lines of tribe shall soon dissolve; that as the world grows smaller, our common humanity shall reveal itself; and that America must play its role in ushering in a new era of peace.\n",
    "To the Muslim world, we seek a new way forward, based on mutual interest and mutual respect. To those leaders around the globe who seek to sow conflict, or blame their society's ills on the West - know that your people will judge you on what you can build, not what you destroy. To those who cling to power through corruption and deceit and the silencing of dissent, know that you are on the wrong side of history; but that we will extend a hand if you are willing to unclench your fist.\n",
    "To the people of poor nations, we pledge to work alongside you to make your farms flourish and let clean waters flow; to nourish starved bodies and feed hungry minds. And to those nations like ours that enjoy relative plenty, we say we can no longer afford indifference to the suffering outside our borders; nor can we consume the world's resources without regard to effect. For the world has changed, and we must change with it.\"\"\""
   ]
  },
  {
   "cell_type": "code",
   "execution_count": 41,
   "id": "86a4e227",
   "metadata": {},
   "outputs": [],
   "source": [
    "import nltk\n",
    "sentences =  nltk.sent_tokenize(paragraph)"
   ]
  },
  {
   "cell_type": "code",
   "execution_count": 42,
   "id": "50184838",
   "metadata": {},
   "outputs": [
    {
     "data": {
      "text/plain": [
       "['I stand here today humbled by the task before us, grateful for the trust you have bestowed, mindful of the sacrifices borne by our ancestors.',\n",
       " 'I thank President Bush for his service to our nation, as well as the generosity and cooperation he has shown throughout this transition.',\n",
       " 'Forty-four Americans have now taken the presidential oath.',\n",
       " 'The words have been spoken during rising tides of prosperity and the still waters of peace.',\n",
       " 'Yet, every so often the oath is taken amidst gathering clouds and raging storms.',\n",
       " 'At these moments, America has carried on not simply because of the skill or vision of those in high office, but because We the People have remained faithful to the ideals of our forbearers, and true to our founding documents.',\n",
       " 'So it has been.',\n",
       " 'So it must be with this generation of Americans.',\n",
       " 'That we are in the midst of crisis is now well understood.',\n",
       " 'Our nation is at war, against a far-reaching network of violence and hatred.',\n",
       " 'Our economy is badly weakened, a consequence of greed and irresponsibility on the part of some, but also our collective failure to make hard choices and prepare the nation for a new age.',\n",
       " 'Homes have been lost; jobs shed; businesses shuttered.',\n",
       " 'Our health care is too costly; our schools fail too many; and each day brings further evidence that the ways we use energy strengthen our adversaries and threaten our planet.',\n",
       " 'These are the indicators of crisis, subject to data and statistics.',\n",
       " \"Less measurable but no less profound is a sapping of confidence across our land - a nagging fear that America's decline is inevitable, and that the next generation must lower its sights.\",\n",
       " 'Today I say to you that the challenges we face are real.',\n",
       " 'They are serious and they are many.',\n",
       " 'They will not be met easily or in a short span of time.',\n",
       " 'But know this, America - they will be met.',\n",
       " 'On this day, we gather because we have chosen hope over fear, unity of purpose over conflict and discord.',\n",
       " 'On this day, we come to proclaim an end to the petty grievances and false promises, the recriminations and worn out dogmas, that for far too long have strangled our politics.',\n",
       " 'We remain a young nation, but in the words of Scripture, the time has come to set aside childish things.',\n",
       " 'The time has come to reaffirm our enduring spirit; to choose our better history; to carry forward that precious gift, that noble idea, passed on from generation to generation: the God-given promise that all are equal, all are free, and all deserve a chance to pursue their full measure of happiness.In reaffirming the greatness of our nation, we understand that greatness is never a given.',\n",
       " 'It must be earned.',\n",
       " 'Our journey has never been one of short-cuts or settling for less.',\n",
       " 'It has not been the path for the faint-hearted - for those who prefer leisure over work, or seek only the pleasures of riches and fame.',\n",
       " 'Rather, it has been the risk-takers, the doers, the makers of things - some celebrated but more often men and women obscure in their labor, who have carried us up the long, rugged path towards prosperity and freedom.',\n",
       " 'For us, they packed up their few worldly possessions and traveled across oceans in search of a new life.',\n",
       " 'For us, they toiled in sweatshops and settled the West; endured the lash of the whip and plowed the hard earth.',\n",
       " 'For us, they fought and died, in places like Concord and Gettysburg; Normandy and Khe Sahn.',\n",
       " 'Time and again these men and women struggled and sacrificed and worked till their hands were raw so that we might live a better life.',\n",
       " 'They saw America as bigger than the sum of our individual ambitions; greater than all the differences of birth or wealth or faction.',\n",
       " 'This is the journey we continue today.',\n",
       " 'We remain the most prosperous, powerful nation on Earth.',\n",
       " 'Our workers are no less productive than when this crisis began.',\n",
       " 'Our minds are no less inventive, our goods and services no less needed than they were last week or last month or last year.',\n",
       " 'Our capacity remains undiminished.',\n",
       " 'But our time of standing pat, of protecting narrow interests and putting off unpleasant decisions - that time has surely passed.',\n",
       " 'Starting today, we must pick ourselves up, dust ourselves off, and begin again the work of remaking America.',\n",
       " 'For everywhere we look, there is work to be done.',\n",
       " 'The state of the economy calls for action, bold and swift, and we will act - not only to create new jobs, but to lay a new foundation for growth.',\n",
       " 'We will build the roads and bridges, the electric grids and digital lines that feed our commerce and bind us together.',\n",
       " \"We will restore science to its rightful place, and wield technology's wonders to raise heal}th care's quality and lower its cost.\",\n",
       " 'We will harness the sun and the winds and the soil to fuel our cars and run our factories.',\n",
       " 'And we will transform our schools and colleges and universities to meet the demands of a new age.',\n",
       " 'All this we can do.',\n",
       " 'And all this we will do.',\n",
       " 'Now, there are some who question the scale of our ambitions - who suggest that our system cannot tolerate too many big plans.',\n",
       " 'Their memories are short.',\n",
       " 'For they have forgotten what this country has already done; what free men and women can achieve when imagination is joined to common purpose, and necessity to courage.',\n",
       " 'What the cynics fail to understand is that the ground has shifted beneath them - that the stale political arguments that have consumed us for so long no longer apply.',\n",
       " 'The question we ask today is not whether our government is too big or too small, but whether it works - whether it helps families find jobs at a decent wage, care they can afford, a retirement that is dignified.',\n",
       " 'Where the answer is yes, we intend to move forward.',\n",
       " 'Where the answer is no, programs will end.',\n",
       " \"And those of us who manage the public's dollars will be held to account - to spend wisely, reform bad habits, and do our business in the light of day - because only then can we restore the vital trust between a people and their government.Nor is the question before us whether the market is a force for good or ill. Its power to generate wealth and expand freedom is unmatched, but this crisis has reminded us that without a watchful eye, the market can spin out of control - and that a nation cannot prosper long when it favors only the prosperous.\",\n",
       " 'The success of our economy has always depended not just on the size of our Gross Domestic Product, but on the reach of our prosperity; on the ability to extend opportunity to every willing heart - not out of charity, but because it is the surest route to our common good.',\n",
       " 'As for our common defense, we reject as false the choice between our safety and our ideals.',\n",
       " 'Our Founding Fathers, faced with perils we can scarcely imagine, drafted a charter to assure the rule of law and the rights of man, a charter expanded by the blood of generations.',\n",
       " \"Those ideals still light the world, and we will not give them up for expedience's sake.\",\n",
       " 'And so to all other peoples and governments who are watching today, from the grandest capitals to the small village where my father was born: know that America is a friend of each nation and every man, woman, and child who seeks a future of peace and dignity, and we are ready to lead once more.',\n",
       " 'Recall that earlier generations faced down fascism and communism not just with missiles and tanks, but with the sturdy alliances and enduring convictions.',\n",
       " 'They understood that our power alone cannot protect us, nor does it entitle us to do as we please.',\n",
       " 'Instead, they knew that our power grows through its prudent use; our security emanates from the justness of our cause, the force of our example, the tempering qualities of humility and restraint.',\n",
       " 'We are the keepers of this legacy.',\n",
       " 'Guided by these principles once more, we can meet those new threats that demand even greater effort - even greater cooperation and understanding between nations.',\n",
       " 'We will begin to responsibly leave Iraq to its people, and forge a hard-earned peace in Afghanistan.',\n",
       " 'With old friends and former foes, we’ll work tirelessly to lessen the nuclear threat, and roll back the specter of a warming planet.',\n",
       " 'We will not apologize for our way of life, nor will we waver in its defense, and for those who seek to advance their aims by inducing terror and slaughtering innocents, we say to you now that our spirit is stronger and cannot be broken; you cannot outlast us, and we will defeat you.',\n",
       " 'For we know that our patchwork heritage is a strength, not a weakness.',\n",
       " 'We are a nation of Christians and Muslims, Jews and Hindus - and non-believers.',\n",
       " 'We are shaped by every language and culture, drawn from every end of this Earth; and because we have tasted the bitter swill of civil war and segregation, and emerged from that dark chapter stronger and more united, we cannot help but believe that the old hatreds shall someday pass; that the lines of tribe shall soon dissolve; that as the world grows smaller, our common humanity shall reveal itself; and that America must play its role in ushering in a new era of peace.',\n",
       " 'To the Muslim world, we seek a new way forward, based on mutual interest and mutual respect.',\n",
       " \"To those leaders around the globe who seek to sow conflict, or blame their society's ills on the West - know that your people will judge you on what you can build, not what you destroy.\",\n",
       " 'To those who cling to power through corruption and deceit and the silencing of dissent, know that you are on the wrong side of history; but that we will extend a hand if you are willing to unclench your fist.',\n",
       " 'To the people of poor nations, we pledge to work alongside you to make your farms flourish and let clean waters flow; to nourish starved bodies and feed hungry minds.',\n",
       " \"And to those nations like ours that enjoy relative plenty, we say we can no longer afford indifference to the suffering outside our borders; nor can we consume the world's resources without regard to effect.\",\n",
       " 'For the world has changed, and we must change with it.']"
      ]
     },
     "execution_count": 42,
     "metadata": {},
     "output_type": "execute_result"
    }
   ],
   "source": [
    "sentences"
   ]
  },
  {
   "cell_type": "code",
   "execution_count": 43,
   "id": "b3923135",
   "metadata": {},
   "outputs": [],
   "source": [
    "from nltk.corpus import stopwords"
   ]
  },
  {
   "cell_type": "code",
   "execution_count": 44,
   "id": "88ebccdb",
   "metadata": {},
   "outputs": [
    {
     "name": "stderr",
     "output_type": "stream",
     "text": [
      "[nltk_data] Downloading package averaged_perceptron_tagger to\n",
      "[nltk_data]     C:\\Users\\asus\\AppData\\Roaming\\nltk_data...\n",
      "[nltk_data]   Package averaged_perceptron_tagger is already up-to-\n",
      "[nltk_data]       date!\n"
     ]
    },
    {
     "data": {
      "text/plain": [
       "True"
      ]
     },
     "execution_count": 44,
     "metadata": {},
     "output_type": "execute_result"
    }
   ],
   "source": [
    "nltk.download('averaged_perceptron_tagger')"
   ]
  },
  {
   "cell_type": "code",
   "execution_count": 45,
   "id": "da91027f",
   "metadata": {},
   "outputs": [
    {
     "name": "stdout",
     "output_type": "stream",
     "text": [
      "[('I', 'PRP'), ('stand', 'VBP'), ('today', 'NN'), ('humbled', 'VBD'), ('task', 'NN'), ('us', 'PRP'), (',', ','), ('grateful', 'JJ'), ('trust', 'NN'), ('bestowed', 'VBN'), (',', ','), ('mindful', 'JJ'), ('sacrifices', 'NNS'), ('borne', 'JJ'), ('ancestors', 'NNS'), ('.', '.')]\n",
      "[('I', 'PRP'), ('thank', 'VBP'), ('President', 'NNP'), ('Bush', 'NNP'), ('service', 'NN'), ('nation', 'NN'), (',', ','), ('well', 'RB'), ('generosity', 'NN'), ('cooperation', 'NN'), ('shown', 'VBN'), ('throughout', 'IN'), ('transition', 'NN'), ('.', '.')]\n",
      "[('Forty-four', 'JJ'), ('Americans', 'NNPS'), ('taken', 'VBN'), ('presidential', 'JJ'), ('oath', 'NN'), ('.', '.')]\n",
      "[('The', 'DT'), ('words', 'NNS'), ('spoken', 'VBN'), ('rising', 'VBG'), ('tides', 'NNS'), ('prosperity', 'NN'), ('still', 'RB'), ('waters', 'VBZ'), ('peace', 'NN'), ('.', '.')]\n",
      "[('Yet', 'RB'), (',', ','), ('every', 'DT'), ('often', 'RB'), ('oath', 'VBZ'), ('taken', 'VBN'), ('amidst', 'RP'), ('gathering', 'VBG'), ('clouds', 'NNS'), ('raging', 'VBG'), ('storms', 'NNS'), ('.', '.')]\n",
      "[('At', 'IN'), ('moments', 'NNS'), (',', ','), ('America', 'NNP'), ('carried', 'VBD'), ('simply', 'RB'), ('skill', 'JJ'), ('vision', 'NN'), ('high', 'JJ'), ('office', 'NN'), (',', ','), ('We', 'PRP'), ('People', 'VBP'), ('remained', 'JJ'), ('faithful', 'JJ'), ('ideals', 'NNS'), ('forbearers', 'NNS'), (',', ','), ('true', 'JJ'), ('founding', 'NN'), ('documents', 'NNS'), ('.', '.')]\n",
      "[('So', 'RB'), ('.', '.')]\n",
      "[('So', 'RB'), ('must', 'MD'), ('generation', 'NN'), ('Americans', 'NNPS'), ('.', '.')]\n",
      "[('That', 'DT'), ('midst', 'NN'), ('crisis', 'NN'), ('well', 'RB'), ('understood', 'RB'), ('.', '.')]\n",
      "[('Our', 'PRP$'), ('nation', 'NN'), ('war', 'NN'), (',', ','), ('far-reaching', 'JJ'), ('network', 'NN'), ('violence', 'NN'), ('hatred', 'VBD'), ('.', '.')]\n",
      "[('Our', 'PRP$'), ('economy', 'NN'), ('badly', 'RB'), ('weakened', 'VBD'), (',', ','), ('consequence', 'NN'), ('greed', 'NN'), ('irresponsibility', 'NN'), ('part', 'NN'), (',', ','), ('also', 'RB'), ('collective', 'JJ'), ('failure', 'NN'), ('make', 'VBP'), ('hard', 'JJ'), ('choices', 'NNS'), ('prepare', 'VB'), ('nation', 'NN'), ('new', 'JJ'), ('age', 'NN'), ('.', '.')]\n",
      "[('Homes', 'NNS'), ('lost', 'VBD'), (';', ':'), ('jobs', 'NNS'), ('shed', 'VBD'), (';', ':'), ('businesses', 'NNS'), ('shuttered', 'VBD'), ('.', '.')]\n",
      "[('Our', 'PRP$'), ('health', 'NN'), ('care', 'NN'), ('costly', 'JJ'), (';', ':'), ('schools', 'NNS'), ('fail', 'VBP'), ('many', 'JJ'), (';', ':'), ('day', 'NN'), ('brings', 'VBZ'), ('evidence', 'NN'), ('ways', 'NNS'), ('use', 'VBP'), ('energy', 'NN'), ('strengthen', 'NN'), ('adversaries', 'NNS'), ('threaten', 'VBP'), ('planet', 'NN'), ('.', '.')]\n",
      "[('These', 'DT'), ('indicators', 'NNS'), ('crisis', 'NN'), (',', ','), ('subject', 'JJ'), ('data', 'NN'), ('statistics', 'NNS'), ('.', '.')]\n",
      "[('Less', 'RBR'), ('measurable', 'JJ'), ('less', 'RBR'), ('profound', 'JJ'), ('sapping', 'VBG'), ('confidence', 'NN'), ('across', 'IN'), ('land', 'NN'), ('-', ':'), ('nagging', 'VBG'), ('fear', 'NN'), ('America', 'NNP'), (\"'s\", 'POS'), ('decline', 'NN'), ('inevitable', 'JJ'), (',', ','), ('next', 'JJ'), ('generation', 'NN'), ('must', 'MD'), ('lower', 'VB'), ('sights', 'NNS'), ('.', '.')]\n",
      "[('Today', 'NN'), ('I', 'PRP'), ('say', 'VBP'), ('challenges', 'NNS'), ('face', 'VBP'), ('real', 'JJ'), ('.', '.')]\n",
      "[('They', 'PRP'), ('serious', 'JJ'), ('many', 'JJ'), ('.', '.')]\n",
      "[('They', 'PRP'), ('met', 'VBD'), ('easily', 'RB'), ('short', 'JJ'), ('span', 'NN'), ('time', 'NN'), ('.', '.')]\n",
      "[('But', 'CC'), ('know', 'VB'), (',', ','), ('America', 'NNP'), ('-', ':'), ('met', 'NN'), ('.', '.')]\n",
      "[('On', 'IN'), ('day', 'NN'), (',', ','), ('gather', 'CC'), ('chosen', 'VBN'), ('hope', 'NN'), ('fear', 'NN'), (',', ','), ('unity', 'NN'), ('purpose', 'JJ'), ('conflict', 'NN'), ('discord', 'NN'), ('.', '.')]\n",
      "[('On', 'IN'), ('day', 'NN'), (',', ','), ('come', 'VB'), ('proclaim', 'JJ'), ('end', 'NN'), ('petty', 'NN'), ('grievances', 'NNS'), ('false', 'JJ'), ('promises', 'NNS'), (',', ','), ('recriminations', 'NNS'), ('worn', 'VBP'), ('dogmas', 'NN'), (',', ','), ('far', 'RB'), ('long', 'RB'), ('strangled', 'JJ'), ('politics', 'NNS'), ('.', '.')]\n",
      "[('We', 'PRP'), ('remain', 'VBP'), ('young', 'JJ'), ('nation', 'NN'), (',', ','), ('words', 'NNS'), ('Scripture', 'NNP'), (',', ','), ('time', 'NN'), ('come', 'VBN'), ('set', 'VBN'), ('aside', 'RP'), ('childish', 'JJ'), ('things', 'NNS'), ('.', '.')]\n",
      "[('The', 'DT'), ('time', 'NN'), ('come', 'JJ'), ('reaffirm', 'NN'), ('enduring', 'VBG'), ('spirit', 'NN'), (';', ':'), ('choose', 'VB'), ('better', 'JJR'), ('history', 'NN'), (';', ':'), ('carry', 'VB'), ('forward', 'RB'), ('precious', 'JJ'), ('gift', 'NN'), (',', ','), ('noble', 'JJ'), ('idea', 'NN'), (',', ','), ('passed', 'VBN'), ('generation', 'NN'), ('generation', 'NN'), (':', ':'), ('God-given', 'JJ'), ('promise', 'NN'), ('equal', 'JJ'), (',', ','), ('free', 'JJ'), (',', ','), ('deserve', 'VB'), ('chance', 'NN'), ('pursue', 'NN'), ('full', 'JJ'), ('measure', 'NN'), ('happiness.In', 'NN'), ('reaffirming', 'VBG'), ('greatness', 'JJ'), ('nation', 'NN'), (',', ','), ('understand', 'VBP'), ('greatness', 'NN'), ('never', 'RB'), ('given', 'VBN'), ('.', '.')]\n",
      "[('It', 'PRP'), ('must', 'MD'), ('earned', 'VBN'), ('.', '.')]\n",
      "[('Our', 'PRP$'), ('journey', 'NN'), ('never', 'RB'), ('one', 'CD'), ('short-cuts', 'JJ'), ('settling', 'NN'), ('less', 'RBR'), ('.', '.')]\n",
      "[('It', 'PRP'), ('path', 'VBZ'), ('faint-hearted', 'JJ'), ('-', ':'), ('prefer', 'NN'), ('leisure', 'NN'), ('work', 'NN'), (',', ','), ('seek', 'JJ'), ('pleasures', 'NNS'), ('riches', 'NNS'), ('fame', 'NN'), ('.', '.')]\n",
      "[('Rather', 'RB'), (',', ','), ('risk-takers', 'NNS'), (',', ','), ('doers', 'NNS'), (',', ','), ('makers', 'NNS'), ('things', 'NNS'), ('-', ':'), ('celebrated', 'VBN'), ('often', 'RB'), ('men', 'NNS'), ('women', 'NNS'), ('obscure', 'JJ'), ('labor', 'NN'), (',', ','), ('carried', 'VBD'), ('us', 'PRP'), ('long', 'RB'), (',', ','), ('rugged', 'VBD'), ('path', 'NN'), ('towards', 'NNS'), ('prosperity', 'NN'), ('freedom', 'NN'), ('.', '.')]\n",
      "[('For', 'IN'), ('us', 'PRP'), (',', ','), ('packed', 'VBD'), ('worldly', 'JJ'), ('possessions', 'NNS'), ('traveled', 'VBD'), ('across', 'IN'), ('oceans', 'NNS'), ('search', 'VBP'), ('new', 'JJ'), ('life', 'NN'), ('.', '.')]\n",
      "[('For', 'IN'), ('us', 'PRP'), (',', ','), ('toiled', 'VBD'), ('sweatshops', 'NNS'), ('settled', 'VBN'), ('West', 'NNP'), (';', ':'), ('endured', 'VBD'), ('lash', 'JJ'), ('whip', 'NN'), ('plowed', 'VBD'), ('hard', 'JJ'), ('earth', 'NN'), ('.', '.')]\n",
      "[('For', 'IN'), ('us', 'PRP'), (',', ','), ('fought', 'RB'), ('died', 'VBD'), (',', ','), ('places', 'NNS'), ('like', 'IN'), ('Concord', 'NNP'), ('Gettysburg', 'NNP'), (';', ':'), ('Normandy', 'NNP'), ('Khe', 'NNP'), ('Sahn', 'NNP'), ('.', '.')]\n",
      "[('Time', 'NNP'), ('men', 'NNS'), ('women', 'NNS'), ('struggled', 'VBD'), ('sacrificed', 'JJ'), ('worked', 'VBN'), ('till', 'NN'), ('hands', 'VBZ'), ('raw', 'JJ'), ('might', 'MD'), ('live', 'VB'), ('better', 'JJR'), ('life', 'NN'), ('.', '.')]\n",
      "[('They', 'PRP'), ('saw', 'VBD'), ('America', 'NNP'), ('bigger', 'JJR'), ('sum', 'NN'), ('individual', 'JJ'), ('ambitions', 'NNS'), (';', ':'), ('greater', 'JJR'), ('differences', 'NNS'), ('birth', 'VBP'), ('wealth', 'NN'), ('faction', 'NN'), ('.', '.')]\n",
      "[('This', 'DT'), ('journey', 'NN'), ('continue', 'NN'), ('today', 'NN'), ('.', '.')]\n",
      "[('We', 'PRP'), ('remain', 'VBP'), ('prosperous', 'JJ'), (',', ','), ('powerful', 'JJ'), ('nation', 'NN'), ('Earth', 'NNP'), ('.', '.')]\n",
      "[('Our', 'PRP$'), ('workers', 'NNS'), ('less', 'RBR'), ('productive', 'JJ'), ('crisis', 'NN'), ('began', 'VBD'), ('.', '.')]\n",
      "[('Our', 'PRP$'), ('minds', 'NNS'), ('less', 'RBR'), ('inventive', 'JJ'), (',', ','), ('goods', 'NNS'), ('services', 'NNS'), ('less', 'RB'), ('needed', 'VBN'), ('last', 'JJ'), ('week', 'NN'), ('last', 'JJ'), ('month', 'NN'), ('last', 'JJ'), ('year', 'NN'), ('.', '.')]\n",
      "[('Our', 'PRP$'), ('capacity', 'NN'), ('remains', 'VBZ'), ('undiminished', 'JJ'), ('.', '.')]\n",
      "[('But', 'CC'), ('time', 'NN'), ('standing', 'VBG'), ('pat', 'NN'), (',', ','), ('protecting', 'VBG'), ('narrow', 'JJ'), ('interests', 'NNS'), ('putting', 'VBG'), ('unpleasant', 'JJ'), ('decisions', 'NNS'), ('-', ':'), ('time', 'NN'), ('surely', 'RB'), ('passed', 'VBN'), ('.', '.')]\n",
      "[('Starting', 'VBG'), ('today', 'NN'), (',', ','), ('must', 'MD'), ('pick', 'VB'), (',', ','), ('dust', 'NN'), (',', ','), ('begin', 'NN'), ('work', 'NN'), ('remaking', 'VBG'), ('America', 'NNP'), ('.', '.')]\n",
      "[('For', 'IN'), ('everywhere', 'RB'), ('look', 'NN'), (',', ','), ('work', 'NN'), ('done', 'VBN'), ('.', '.')]\n",
      "[('The', 'DT'), ('state', 'NN'), ('economy', 'NN'), ('calls', 'VBZ'), ('action', 'NN'), (',', ','), ('bold', 'JJ'), ('swift', 'NN'), (',', ','), ('act', 'VB'), ('-', ':'), ('create', 'VB'), ('new', 'JJ'), ('jobs', 'NNS'), (',', ','), ('lay', 'VBD'), ('new', 'JJ'), ('foundation', 'NN'), ('growth', 'NN'), ('.', '.')]\n",
      "[('We', 'PRP'), ('build', 'VBP'), ('roads', 'NNS'), ('bridges', 'NNS'), (',', ','), ('electric', 'JJ'), ('grids', 'NNS'), ('digital', 'JJ'), ('lines', 'NNS'), ('feed', 'VBN'), ('commerce', 'NN'), ('bind', 'NN'), ('us', 'PRP'), ('together', 'RB'), ('.', '.')]\n",
      "[('We', 'PRP'), ('restore', 'VBP'), ('science', 'JJ'), ('rightful', 'JJ'), ('place', 'NN'), (',', ','), ('wield', 'VBD'), ('technology', 'NN'), (\"'s\", 'POS'), ('wonders', 'NNS'), ('raise', 'VBP'), ('heal', 'NN'), ('}', ')'), ('th', 'VBZ'), ('care', 'NN'), (\"'s\", 'POS'), ('quality', 'NN'), ('lower', 'RBR'), ('cost', 'NN'), ('.', '.')]\n",
      "[('We', 'PRP'), ('harness', 'VBP'), ('sun', 'JJ'), ('winds', 'NNS'), ('soil', 'NN'), ('fuel', 'NN'), ('cars', 'NNS'), ('run', 'VB'), ('factories', 'NNS'), ('.', '.')]\n",
      "[('And', 'CC'), ('transform', 'NN'), ('schools', 'NNS'), ('colleges', 'VBZ'), ('universities', 'NNS'), ('meet', 'VB'), ('demands', 'NNS'), ('new', 'JJ'), ('age', 'NN'), ('.', '.')]\n",
      "[('All', 'DT'), ('.', '.')]\n",
      "[('And', 'CC'), ('.', '.')]\n",
      "[('Now', 'RB'), (',', ','), ('question', 'NN'), ('scale', 'NN'), ('ambitions', 'NNS'), ('-', ':'), ('suggest', 'NN'), ('system', 'NN'), ('tolerate', 'VBP'), ('many', 'JJ'), ('big', 'JJ'), ('plans', 'NNS'), ('.', '.')]\n",
      "[('Their', 'PRP$'), ('memories', 'NNS'), ('short', 'VBP'), ('.', '.')]\n",
      "[('For', 'IN'), ('forgotten', 'JJ'), ('country', 'NN'), ('already', 'RB'), ('done', 'VBN'), (';', ':'), ('free', 'JJ'), ('men', 'NNS'), ('women', 'NNS'), ('achieve', 'VBP'), ('imagination', 'NN'), ('joined', 'VBD'), ('common', 'JJ'), ('purpose', 'NN'), (',', ','), ('necessity', 'NN'), ('courage', 'NN'), ('.', '.')]\n",
      "[('What', 'WP'), ('cynics', 'VBD'), ('fail', 'JJ'), ('understand', 'NN'), ('ground', 'NN'), ('shifted', 'VBD'), ('beneath', 'IN'), ('-', ':'), ('stale', 'JJ'), ('political', 'JJ'), ('arguments', 'NNS'), ('consumed', 'VBD'), ('us', 'PRP'), ('long', 'RB'), ('longer', 'RBR'), ('apply', 'RB'), ('.', '.')]\n",
      "[('The', 'DT'), ('question', 'NN'), ('ask', 'NN'), ('today', 'NN'), ('whether', 'IN'), ('government', 'NN'), ('big', 'JJ'), ('small', 'JJ'), (',', ','), ('whether', 'IN'), ('works', 'SYM'), ('-', ':'), ('whether', 'IN'), ('helps', 'JJ'), ('families', 'NNS'), ('find', 'VBP'), ('jobs', 'NNS'), ('decent', 'JJ'), ('wage', 'NN'), (',', ','), ('care', 'NN'), ('afford', 'NN'), (',', ','), ('retirement', 'NN'), ('dignified', 'VBD'), ('.', '.')]\n",
      "[('Where', 'WRB'), ('answer', 'JJR'), ('yes', 'UH'), (',', ','), ('intend', 'JJ'), ('move', 'NN'), ('forward', 'RB'), ('.', '.')]\n",
      "[('Where', 'WRB'), ('answer', 'NN'), (',', ','), ('programs', 'NNS'), ('end', 'VBP'), ('.', '.')]\n",
      "[('And', 'CC'), ('us', 'PRP'), ('manage', 'VBP'), ('public', 'JJ'), (\"'s\", 'POS'), ('dollars', 'NNS'), ('held', 'VBD'), ('account', 'NN'), ('-', ':'), ('spend', 'NN'), ('wisely', 'RB'), (',', ','), ('reform', 'NN'), ('bad', 'JJ'), ('habits', 'NNS'), (',', ','), ('business', 'NN'), ('light', 'VBD'), ('day', 'NN'), ('-', ':'), ('restore', 'NN'), ('vital', 'JJ'), ('trust', 'NN'), ('people', 'NNS'), ('government.Nor', 'VBP'), ('question', 'NN'), ('us', 'PRP'), ('whether', 'IN'), ('market', 'NN'), ('force', 'NN'), ('good', 'JJ'), ('ill.', 'NN'), ('Its', 'PRP$'), ('power', 'NN'), ('generate', 'NN'), ('wealth', 'NN'), ('expand', 'NN'), ('freedom', 'NN'), ('unmatched', 'VBD'), (',', ','), ('crisis', 'NN'), ('reminded', 'VBD'), ('us', 'PRP'), ('without', 'IN'), ('watchful', 'JJ'), ('eye', 'NN'), (',', ','), ('market', 'NN'), ('spin', 'NN'), ('control', 'NN'), ('-', ':'), ('nation', 'NN'), ('prosper', 'IN'), ('long', 'JJ'), ('favors', 'NNS'), ('prosperous', 'JJ'), ('.', '.')]\n",
      "[('The', 'DT'), ('success', 'NN'), ('economy', 'NN'), ('always', 'RB'), ('depended', 'VBD'), ('size', 'NN'), ('Gross', 'NNP'), ('Domestic', 'NNP'), ('Product', 'NNP'), (',', ','), ('reach', 'VBP'), ('prosperity', 'NN'), (';', ':'), ('ability', 'NN'), ('extend', 'VBP'), ('opportunity', 'NN'), ('every', 'DT'), ('willing', 'JJ'), ('heart', 'NN'), ('-', ':'), ('charity', 'NN'), (',', ','), ('surest', 'JJS'), ('route', 'NN'), ('common', 'JJ'), ('good', 'NN'), ('.', '.')]\n",
      "[('As', 'IN'), ('common', 'JJ'), ('defense', 'NN'), (',', ','), ('reject', 'VBP'), ('false', 'JJ'), ('choice', 'NN'), ('safety', 'NN'), ('ideals', 'NNS'), ('.', '.')]\n",
      "[('Our', 'PRP$'), ('Founding', 'VBG'), ('Fathers', 'NNS'), (',', ','), ('faced', 'VBD'), ('perils', 'NNS'), ('scarcely', 'RB'), ('imagine', 'VBP'), (',', ','), ('drafted', 'VBN'), ('charter', 'NN'), ('assure', 'NN'), ('rule', 'NN'), ('law', 'NN'), ('rights', 'NNS'), ('man', 'NN'), (',', ','), ('charter', 'NN'), ('expanded', 'VBD'), ('blood', 'NN'), ('generations', 'NNS'), ('.', '.')]\n",
      "[('Those', 'DT'), ('ideals', 'NNS'), ('still', 'RB'), ('light', 'JJ'), ('world', 'NN'), (',', ','), ('give', 'VBP'), ('expedience', 'NN'), (\"'s\", 'POS'), ('sake', 'NN'), ('.', '.')]\n",
      "[('And', 'CC'), ('peoples', 'NNS'), ('governments', 'NNS'), ('watching', 'VBG'), ('today', 'NN'), (',', ','), ('grandest', 'JJS'), ('capitals', 'NNS'), ('small', 'JJ'), ('village', 'NN'), ('father', 'NN'), ('born', 'VBN'), (':', ':'), ('know', 'VB'), ('America', 'NNP'), ('friend', 'JJ'), ('nation', 'NN'), ('every', 'DT'), ('man', 'NN'), (',', ','), ('woman', 'NN'), (',', ','), ('child', 'NN'), ('seeks', 'VBZ'), ('future', 'JJ'), ('peace', 'NN'), ('dignity', 'NN'), (',', ','), ('ready', 'JJ'), ('lead', 'NN'), ('.', '.')]\n",
      "[('Recall', 'DT'), ('earlier', 'JJR'), ('generations', 'NNS'), ('faced', 'VBD'), ('fascism', 'NN'), ('communism', 'NN'), ('missiles', 'NNS'), ('tanks', 'NNS'), (',', ','), ('sturdy', 'JJ'), ('alliances', 'NNS'), ('enduring', 'VBG'), ('convictions', 'NNS'), ('.', '.')]\n",
      "[('They', 'PRP'), ('understood', 'VBD'), ('power', 'NN'), ('alone', 'RB'), ('protect', 'JJ'), ('us', 'PRP'), (',', ','), ('entitle', 'VB'), ('us', 'PRP'), ('please', 'VB'), ('.', '.')]\n",
      "[('Instead', 'RB'), (',', ','), ('knew', 'VBD'), ('power', 'NN'), ('grows', 'NNS'), ('prudent', 'JJ'), ('use', 'NN'), (';', ':'), ('security', 'NN'), ('emanates', 'VBZ'), ('justness', 'NN'), ('cause', 'NN'), (',', ','), ('force', 'NN'), ('example', 'NN'), (',', ','), ('tempering', 'VBG'), ('qualities', 'NNS'), ('humility', 'NN'), ('restraint', 'NN'), ('.', '.')]\n",
      "[('We', 'PRP'), ('keepers', 'NNS'), ('legacy', 'VBP'), ('.', '.')]\n",
      "[('Guided', 'VBN'), ('principles', 'NNS'), (',', ','), ('meet', 'VB'), ('new', 'JJ'), ('threats', 'NNS'), ('demand', 'VBP'), ('even', 'RB'), ('greater', 'JJR'), ('effort', 'NN'), ('-', ':'), ('even', 'RB'), ('greater', 'JJR'), ('cooperation', 'NN'), ('understanding', 'VBG'), ('nations', 'NNS'), ('.', '.')]\n",
      "[('We', 'PRP'), ('begin', 'VBP'), ('responsibly', 'RB'), ('leave', 'VBP'), ('Iraq', 'NNP'), ('people', 'NNS'), (',', ','), ('forge', 'VB'), ('hard-earned', 'JJ'), ('peace', 'NN'), ('Afghanistan', 'NNP'), ('.', '.')]\n",
      "[('With', 'IN'), ('old', 'JJ'), ('friends', 'NNS'), ('former', 'JJ'), ('foes', 'NNS'), (',', ','), ('’', 'NNP'), ('work', 'NN'), ('tirelessly', 'RB'), ('lessen', 'JJ'), ('nuclear', 'JJ'), ('threat', 'NN'), (',', ','), ('roll', 'VBP'), ('back', 'RB'), ('specter', 'NN'), ('warming', 'VBG'), ('planet', 'NN'), ('.', '.')]\n",
      "[('We', 'PRP'), ('apologize', 'VBP'), ('way', 'NN'), ('life', 'NN'), (',', ','), ('waver', 'WDT'), ('defense', 'NN'), (',', ','), ('seek', 'JJ'), ('advance', 'NN'), ('aims', 'NNS'), ('inducing', 'VBG'), ('terror', 'NN'), ('slaughtering', 'VBG'), ('innocents', 'NNS'), (',', ','), ('say', 'VBP'), ('spirit', 'NN'), ('stronger', 'JJR'), ('broken', 'VBN'), (';', ':'), ('outlast', 'PRP'), ('us', 'PRP'), (',', ','), ('defeat', 'NN'), ('.', '.')]\n",
      "[('For', 'IN'), ('know', 'JJ'), ('patchwork', 'NN'), ('heritage', 'NN'), ('strength', 'NN'), (',', ','), ('weakness', 'NN'), ('.', '.')]\n",
      "[('We', 'PRP'), ('nation', 'NN'), ('Christians', 'NNPS'), ('Muslims', 'NNP'), (',', ','), ('Jews', 'NNP'), ('Hindus', 'NNP'), ('-', ':'), ('non-believers', 'NNS'), ('.', '.')]\n",
      "[('We', 'PRP'), ('shaped', 'VBD'), ('every', 'DT'), ('language', 'NN'), ('culture', 'NN'), (',', ','), ('drawn', 'NN'), ('every', 'DT'), ('end', 'NN'), ('Earth', 'NN'), (';', ':'), ('tasted', 'VBN'), ('bitter', 'NN'), ('swill', 'NN'), ('civil', 'JJ'), ('war', 'NN'), ('segregation', 'NN'), (',', ','), ('emerged', 'VBD'), ('dark', 'JJ'), ('chapter', 'NN'), ('stronger', 'NN'), ('united', 'VBD'), (',', ','), ('help', 'NN'), ('believe', 'VB'), ('old', 'JJ'), ('hatreds', 'NNS'), ('shall', 'MD'), ('someday', 'RB'), ('pass', 'VB'), (';', ':'), ('lines', 'NNS'), ('tribe', 'VBP'), ('shall', 'MD'), ('soon', 'RB'), ('dissolve', 'VB'), (';', ':'), ('world', 'NN'), ('grows', 'VBZ'), ('smaller', 'JJR'), (',', ','), ('common', 'JJ'), ('humanity', 'NN'), ('shall', 'MD'), ('reveal', 'VB'), (';', ':'), ('America', 'NNP'), ('must', 'MD'), ('play', 'VB'), ('role', 'NN'), ('ushering', 'VBG'), ('new', 'JJ'), ('era', 'NN'), ('peace', 'NN'), ('.', '.')]\n",
      "[('To', 'TO'), ('Muslim', 'NNP'), ('world', 'NN'), (',', ','), ('seek', 'VBP'), ('new', 'JJ'), ('way', 'NN'), ('forward', 'RB'), (',', ','), ('based', 'VBN'), ('mutual', 'JJ'), ('interest', 'NN'), ('mutual', 'JJ'), ('respect', 'NN'), ('.', '.')]\n",
      "[('To', 'TO'), ('leaders', 'NNS'), ('around', 'IN'), ('globe', 'NN'), ('seek', 'VBP'), ('sow', 'NN'), ('conflict', 'NN'), (',', ','), ('blame', 'VBP'), ('society', 'NN'), (\"'s\", 'POS'), ('ills', 'NNS'), ('West', 'NNP'), ('-', ':'), ('know', 'VBP'), ('people', 'NNS'), ('judge', 'VBP'), ('build', 'VB'), (',', ','), ('destroy', 'NN'), ('.', '.')]\n",
      "[('To', 'TO'), ('cling', 'VBG'), ('power', 'NN'), ('corruption', 'NN'), ('deceit', 'IN'), ('silencing', 'VBG'), ('dissent', 'NN'), (',', ','), ('know', 'VBP'), ('wrong', 'JJ'), ('side', 'JJ'), ('history', 'NN'), (';', ':'), ('extend', 'JJ'), ('hand', 'NN'), ('willing', 'JJ'), ('unclench', 'JJ'), ('fist', 'NN'), ('.', '.')]\n",
      "[('To', 'TO'), ('people', 'NNS'), ('poor', 'JJ'), ('nations', 'NNS'), (',', ','), ('pledge', 'NN'), ('work', 'NN'), ('alongside', 'RB'), ('make', 'VB'), ('farms', 'NNS'), ('flourish', 'JJ'), ('let', 'JJ'), ('clean', 'JJ'), ('waters', 'NNS'), ('flow', 'VBP'), (';', ':'), ('nourish', 'JJ'), ('starved', 'VBD'), ('bodies', 'NNS'), ('feed', 'VBP'), ('hungry', 'JJ'), ('minds', 'NNS'), ('.', '.')]\n",
      "[('And', 'CC'), ('nations', 'NNS'), ('like', 'IN'), ('enjoy', 'VBP'), ('relative', 'JJ'), ('plenty', 'NN'), (',', ','), ('say', 'VBP'), ('longer', 'JJR'), ('afford', 'JJ'), ('indifference', 'NN'), ('suffering', 'VBG'), ('outside', 'JJ'), ('borders', 'NNS'), (';', ':'), ('consume', 'VB'), ('world', 'NN'), (\"'s\", 'POS'), ('resources', 'NNS'), ('without', 'IN'), ('regard', 'NN'), ('effect', 'NN'), ('.', '.')]\n",
      "[('For', 'IN'), ('world', 'NN'), ('changed', 'VBN'), (',', ','), ('must', 'MD'), ('change', 'VB'), ('.', '.')]\n"
     ]
    }
   ],
   "source": [
    "## we will find out the Pos Tag\n",
    "\n",
    "for i in range(len(sentences)):\n",
    "    words = nltk.word_tokenize(sentences[i])\n",
    "    words = [word for word in words if word not in set(stopwords.words('english'))]\n",
    "    pos_tag=nltk.pos_tag(words)\n",
    "    print(pos_tag) # for each word we are having tag"
   ]
  },
  {
   "cell_type": "code",
   "execution_count": 46,
   "id": "462c0a16",
   "metadata": {},
   "outputs": [
    {
     "name": "stdout",
     "output_type": "stream",
     "text": [
      "[('Taj', 'NN')]\n",
      "[('Mahal', 'NN')]\n",
      "[('is', 'VBZ')]\n",
      "[('a', 'DT')]\n",
      "[('beautiful', 'NN')]\n",
      "[('Monument', 'NN')]\n"
     ]
    }
   ],
   "source": [
    "for i in \"Taj Mahal is a beautiful Monument\".split():\n",
    "    print(nltk.pos_tag([i]))\n"
   ]
  },
  {
   "cell_type": "code",
   "execution_count": null,
   "id": "db7c5f4c",
   "metadata": {},
   "outputs": [],
   "source": []
  }
 ],
 "metadata": {
  "kernelspec": {
   "display_name": "Python 3",
   "language": "python",
   "name": "python3"
  },
  "language_info": {
   "codemirror_mode": {
    "name": "ipython",
    "version": 3
   },
   "file_extension": ".py",
   "mimetype": "text/x-python",
   "name": "python",
   "nbconvert_exporter": "python",
   "pygments_lexer": "ipython3",
   "version": "3.12.0"
  }
 },
 "nbformat": 4,
 "nbformat_minor": 5
}
